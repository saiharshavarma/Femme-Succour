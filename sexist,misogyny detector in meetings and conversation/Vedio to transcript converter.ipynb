{
 "cells": [
  {
   "cell_type": "code",
   "execution_count": 2,
   "id": "6c778fe3",
   "metadata": {},
   "outputs": [
    {
     "name": "stderr",
     "output_type": "stream",
     "text": [
      "Unable to create process using 'C:\\Users\\Priyanka Kumari\\anaconda3\\python.exe \"C:\\Users\\Priyanka Kumari\\anaconda3\\Scripts\\pip-script.py\" install google-cloud-speech'\n"
     ]
    }
   ],
   "source": [
    "import io\n",
    "import os\n",
    "\n",
    "# import the client library\n",
    "from google.cloud import speech_v1p1beta1 as speech\n",
    "\n",
    "# set up the Google Cloud API credentials\n",
    "os.environ[\"GOOGLE_APPLICATION_CREDENTIALS\"] = \"path/to/your/credentials.json\"\n",
    "\n",
    "# create a speech client\n",
    "client = speech.SpeechClient()\n",
    "\n",
    "# specify the video file path\n",
    "video_file_path = \"path/to/your/video/file.mp4\"\n",
    "\n",
    "# open the video file as binary and read the content\n",
    "with io.open(video_file_path, \"rb\") as video_file:\n",
    "    video_content = video_file.read()\n",
    "\n",
    "# configure the audio settings\n",
    "audio_config = speech.RecognitionConfig(\n",
    "    encoding=speech.RecognitionConfig.AudioEncoding.LINEAR16,\n",
    "    sample_rate_hertz=16000,\n",
    "    language_code=\"en-US\",\n",
    "    enable_word_time_offsets=True,\n",
    ")\n",
    "\n",
    "# send the request to the API\n",
    "audio = speech.RecognitionAudio(content=video_content)\n",
    "response = client.recognize(config=audio_config, audio=audio)\n",
    "\n",
    "# loop through the results and print the transcript and word timings\n",
    "for result in response.results:\n",
    "    transcript = result.alternatives[0].transcript\n",
    "    print(f\"Transcript: {transcript}\")\n",
    "    for word in result.alternatives[0].words:\n",
    "        start_time = word.start_time.total_seconds()\n",
    "        end_time = word.end_time.total_seconds()\n",
    "        print(f\"Word: {word.word}, Start Time: {start_time}, End Time: {end_time}\")\n",
    "\n"
   ]
  },
  {
   "cell_type": "code",
   "execution_count": 4,
   "id": "9ad90606",
   "metadata": {},
   "outputs": [],
   "source": [
    "import io\n",
    "import os"
   ]
  },
  {
   "cell_type": "code",
   "execution_count": 8,
   "id": "20134ce5",
   "metadata": {},
   "outputs": [
    {
     "name": "stdout",
     "output_type": "stream",
     "text": [
      "Requirement already satisfied: google.cloud in c:\\users\\priyanka kumari\\anaconda3\\lib\\site-packages (0.34.0)\n",
      "Note: you may need to restart the kernel to use updated packages.\n"
     ]
    }
   ],
   "source": [
    "%pip install google.cloud"
   ]
  },
  {
   "cell_type": "code",
   "execution_count": 10,
   "id": "9a3fcddf",
   "metadata": {},
   "outputs": [
    {
     "name": "stdout",
     "output_type": "stream",
     "text": [
      "Note: you may need to restart the kernel to use updated packages.\n"
     ]
    },
    {
     "name": "stderr",
     "output_type": "stream",
     "text": [
      "ERROR: Could not find a version that satisfies the requirement speech_v1p1beta1 (from versions: none)\n",
      "ERROR: No matching distribution found for speech_v1p1beta1\n"
     ]
    }
   ],
   "source": [
    "%pip install speech_v1p1beta1"
   ]
  },
  {
   "cell_type": "code",
   "execution_count": null,
   "id": "e739662a",
   "metadata": {},
   "outputs": [],
   "source": [
    "# import the client library\n",
    "from google.cloud import speech_v1p1beta1 as speech"
   ]
  },
  {
   "cell_type": "code",
   "execution_count": 18,
   "id": "e9be4b0c",
   "metadata": {},
   "outputs": [
    {
     "name": "stdout",
     "output_type": "stream",
     "text": [
      "Requirement already satisfied: SpeechRecognition in c:\\users\\priyanka kumari\\anaconda3\\lib\\site-packages (3.9.0)\n",
      "Requirement already satisfied: requests>=2.26.0 in c:\\users\\priyanka kumari\\anaconda3\\lib\\site-packages (from SpeechRecognition) (2.27.1)\n",
      "Requirement already satisfied: urllib3<1.27,>=1.21.1 in c:\\users\\priyanka kumari\\anaconda3\\lib\\site-packages (from requests>=2.26.0->SpeechRecognition) (1.26.9)\n",
      "Requirement already satisfied: idna<4,>=2.5 in c:\\users\\priyanka kumari\\anaconda3\\lib\\site-packages (from requests>=2.26.0->SpeechRecognition) (3.3)\n",
      "Requirement already satisfied: charset-normalizer~=2.0.0 in c:\\users\\priyanka kumari\\anaconda3\\lib\\site-packages (from requests>=2.26.0->SpeechRecognition) (2.0.4)\n",
      "Requirement already satisfied: certifi>=2017.4.17 in c:\\users\\priyanka kumari\\anaconda3\\lib\\site-packages (from requests>=2.26.0->SpeechRecognition) (2021.10.8)\n",
      "Note: you may need to restart the kernel to use updated packages.\n"
     ]
    }
   ],
   "source": [
    "%pip install SpeechRecognition"
   ]
  },
  {
   "cell_type": "code",
   "execution_count": 21,
   "id": "bb358a1e",
   "metadata": {},
   "outputs": [
    {
     "name": "stdout",
     "output_type": "stream",
     "text": [
      "Collecting moviepy\n",
      "  Downloading moviepy-1.0.3.tar.gz (388 kB)\n",
      "Collecting decorator<5.0,>=4.0.2\n",
      "  Downloading decorator-4.4.2-py2.py3-none-any.whl (9.2 kB)\n",
      "Requirement already satisfied: tqdm<5.0,>=4.11.2 in c:\\users\\priyanka kumari\\anaconda3\\lib\\site-packages (from moviepy) (4.64.0)\n",
      "Requirement already satisfied: requests<3.0,>=2.8.1 in c:\\users\\priyanka kumari\\anaconda3\\lib\\site-packages (from moviepy) (2.27.1)\n",
      "Collecting proglog<=1.0.0\n",
      "  Downloading proglog-0.1.10-py3-none-any.whl (6.1 kB)\n",
      "Requirement already satisfied: numpy>=1.17.3 in c:\\users\\priyanka kumari\\anaconda3\\lib\\site-packages (from moviepy) (1.21.5)\n",
      "Requirement already satisfied: imageio<3.0,>=2.5 in c:\\users\\priyanka kumari\\anaconda3\\lib\\site-packages (from moviepy) (2.9.0)\n",
      "Collecting imageio_ffmpeg>=0.2.0\n",
      "  Downloading imageio_ffmpeg-0.4.8-py3-none-win_amd64.whl (22.6 MB)\n",
      "Requirement already satisfied: pillow in c:\\users\\priyanka kumari\\anaconda3\\lib\\site-packages (from imageio<3.0,>=2.5->moviepy) (9.0.1)\n",
      "Requirement already satisfied: charset-normalizer~=2.0.0 in c:\\users\\priyanka kumari\\anaconda3\\lib\\site-packages (from requests<3.0,>=2.8.1->moviepy) (2.0.4)\n",
      "Requirement already satisfied: idna<4,>=2.5 in c:\\users\\priyanka kumari\\anaconda3\\lib\\site-packages (from requests<3.0,>=2.8.1->moviepy) (3.3)\n",
      "Note: you may need to restart the kernel to use updated packages.\n",
      "Requirement already satisfied: certifi>=2017.4.17 in c:\\users\\priyanka kumari\\anaconda3\\lib\\site-packages (from requests<3.0,>=2.8.1->moviepy) (2021.10.8)\n",
      "Requirement already satisfied: urllib3<1.27,>=1.21.1 in c:\\users\\priyanka kumari\\anaconda3\\lib\\site-packages (from requests<3.0,>=2.8.1->moviepy) (1.26.9)\n",
      "Requirement already satisfied: colorama in c:\\users\\priyanka kumari\\anaconda3\\lib\\site-packages (from tqdm<5.0,>=4.11.2->moviepy) (0.4.4)\n",
      "Building wheels for collected packages: moviepy\n",
      "  Building wheel for moviepy (setup.py): started\n",
      "  Building wheel for moviepy (setup.py): finished with status 'done'\n",
      "  Created wheel for moviepy: filename=moviepy-1.0.3-py3-none-any.whl size=110743 sha256=aafe667b0537e7b56ed2904ff45459111ca6cdb967a542ff7dcb167b47ddeb0b\n",
      "  Stored in directory: c:\\users\\priyanka kumari\\appdata\\local\\pip\\cache\\wheels\\29\\15\\e4\\4f790bec6acd51a00b67e8ee1394f0bc6e0135c315f8ff399a\n",
      "Successfully built moviepy\n",
      "Installing collected packages: proglog, imageio-ffmpeg, decorator, moviepy\n",
      "  Attempting uninstall: decorator\n",
      "    Found existing installation: decorator 5.1.1\n",
      "    Uninstalling decorator-5.1.1:\n",
      "      Successfully uninstalled decorator-5.1.1\n",
      "Successfully installed decorator-4.4.2 imageio-ffmpeg-0.4.8 moviepy-1.0.3 proglog-0.1.10\n"
     ]
    }
   ],
   "source": [
    "%pip install moviepy"
   ]
  },
  {
   "cell_type": "code",
   "execution_count": 28,
   "id": "30fb8d1a",
   "metadata": {},
   "outputs": [
    {
     "name": "stdout",
     "output_type": "stream",
     "text": [
      "Requirement already satisfied: moviepy in c:\\users\\priyanka kumari\\anaconda3\\lib\\site-packages (1.0.3)Note: you may need to restart the kernel to use updated packages.\n",
      "Requirement already satisfied: proglog<=1.0.0 in c:\\users\\priyanka kumari\\anaconda3\\lib\\site-packages (from moviepy) (0.1.10)\n",
      "Requirement already satisfied: requests<3.0,>=2.8.1 in c:\\users\\priyanka kumari\\anaconda3\\lib\\site-packages (from moviepy) (2.27.1)\n",
      "Requirement already satisfied: numpy in c:\\users\\priyanka kumari\\anaconda3\\lib\\site-packages (from moviepy) (1.21.5)\n",
      "Requirement already satisfied: imageio<3.0,>=2.5 in c:\\users\\priyanka kumari\\anaconda3\\lib\\site-packages (from moviepy) (2.9.0)\n",
      "Requirement already satisfied: tqdm<5.0,>=4.11.2 in c:\\users\\priyanka kumari\\anaconda3\\lib\\site-packages (from moviepy) (4.64.0)\n",
      "Requirement already satisfied: imageio-ffmpeg>=0.2.0 in c:\\users\\priyanka kumari\\anaconda3\\lib\\site-packages (from moviepy) (0.4.8)\n",
      "Requirement already satisfied: decorator<5.0,>=4.0.2 in c:\\users\\priyanka kumari\\anaconda3\\lib\\site-packages (from moviepy) (4.4.2)\n",
      "Requirement already satisfied: pillow in c:\\users\\priyanka kumari\\anaconda3\\lib\\site-packages (from imageio<3.0,>=2.5->moviepy) (9.0.1)\n",
      "Requirement already satisfied: urllib3<1.27,>=1.21.1 in c:\\users\\priyanka kumari\\anaconda3\\lib\\site-packages (from requests<3.0,>=2.8.1->moviepy) (1.26.9)\n",
      "Requirement already satisfied: certifi>=2017.4.17 in c:\\users\\priyanka kumari\\anaconda3\\lib\\site-packages (from requests<3.0,>=2.8.1->moviepy) (2021.10.8)\n",
      "Requirement already satisfied: charset-normalizer~=2.0.0 in c:\\users\\priyanka kumari\\anaconda3\\lib\\site-packages (from requests<3.0,>=2.8.1->moviepy) (2.0.4)\n",
      "\n",
      "Requirement already satisfied: idna<4,>=2.5 in c:\\users\\priyanka kumari\\anaconda3\\lib\\site-packages (from requests<3.0,>=2.8.1->moviepy) (3.3)\n",
      "Requirement already satisfied: colorama in c:\\users\\priyanka kumari\\anaconda3\\lib\\site-packages (from tqdm<5.0,>=4.11.2->moviepy) (0.4.4)\n"
     ]
    }
   ],
   "source": [
    "pip install --upgrade moviepy"
   ]
  },
  {
   "cell_type": "code",
   "execution_count": null,
   "id": "cbe9db82",
   "metadata": {},
   "outputs": [],
   "source": [
    "import speech_recognition as sr\n",
    "\n",
    "# specify the video file path\n",
    "video_file_path = \"C:\\\\Users\\\\Priyanka Kumari\\\\Desktop\\\\test.mp4\"\n",
    "\n",
    "# initialize the SpeechRecognition recognizer\n",
    "r = sr.Recognizer()\n",
    "\n",
    "# open the video file as an audio file using the moviepy library\n",
    "import moviepy.editor as mp\n",
    "#from moviepy.audio.AudioFileClip import AudioFileClip\n",
    "from moviepy.audio.io.AudioFileClip import AudioFileClip\n",
    "\n",
    "# create an AudioFileClip object\n",
    "audio_file_clip = AudioFileClip(\"C:\\\\Users\\\\Priyanka Kumari\\\\Desktop\\\\test.mp4\")\n",
    "\n",
    "# specify the parameters for the recognizer\n",
    "r.energy_threshold = 4000\n",
    "r.dynamic_energy_threshold = True\n",
    "\n",
    "# set the sample rate to 16kHz\n",
    "sample_rate = 16000\n",
    "\n",
    "# transcribe the audio\n",
    "transcript = \"\"\n",
    "for i in range(0, len(audio), sample_rate):\n",
    "    audio_segment = audio[i:i+sample_rate]\n",
    "    audio_segment = sr.AudioData(audio_segment.tobytes(), sample_rate=sample_rate, sample_width=2)\n",
    "    try:\n",
    "        text = r.recognize_google(audio_segment)\n",
    "        transcript += \" \" + text\n",
    "    except sr.UnknownValueError:\n",
    "        pass\n",
    "\n",
    "# print the transcript\n",
    "print(transcript)\n"
   ]
  },
  {
   "cell_type": "code",
   "execution_count": 34,
   "id": "bcd70b20",
   "metadata": {},
   "outputs": [
    {
     "name": "stdout",
     "output_type": "stream",
     "text": [
      "MoviePy - Writing audio in audio.wav\n"
     ]
    },
    {
     "name": "stderr",
     "output_type": "stream",
     "text": [
      "                                                                                                                       \r"
     ]
    },
    {
     "name": "stdout",
     "output_type": "stream",
     "text": [
      "MoviePy - Done.\n",
      "result2:\n",
      "{   'alternative': [   {   'confidence': 0.87843758,\n",
      "                           'transcript': 'myself Hemlata mansukhlal dholak'},\n",
      "                       {'transcript': 'myself Hemlata mansukhlal Dholak my'},\n",
      "                       {'transcript': 'myself Hemlata Mansukh Lal dholak'},\n",
      "                       {'transcript': 'myself Hemlata manchukh Lal dholak'},\n",
      "                       {'transcript': 'myself Hemlata Mansukh Lal Dholak my'}],\n",
      "    'final': True}\n",
      "myself Hemlata mansukhlal dholak\n"
     ]
    }
   ],
   "source": [
    "import moviepy.editor as mp\n",
    "import speech_recognition as sr\n",
    "\n",
    "# Load video file\n",
    "clip = mp.VideoFileClip(\"C:\\\\Users\\\\Priyanka Kumari\\\\Desktop\\\\test.mp4\")\n",
    "\n",
    "# Extract audio\n",
    "audio_file = \"audio.wav\"\n",
    "clip.audio.write_audiofile(audio_file)\n",
    "\n",
    "# Transcribe audio\n",
    "r = sr.Recognizer()\n",
    "with sr.AudioFile(audio_file) as source:\n",
    "    audio = r.record(source)\n",
    "text = r.recognize_google(audio)\n",
    "\n",
    "print(text)\n"
   ]
  },
  {
   "cell_type": "code",
   "execution_count": 36,
   "id": "33c96a05",
   "metadata": {},
   "outputs": [
    {
     "name": "stdout",
     "output_type": "stream",
     "text": [
      "Collecting pydubNote: you may need to restart the kernel to use updated packages.\n",
      "\n",
      "  Downloading pydub-0.25.1-py2.py3-none-any.whl (32 kB)\n",
      "Installing collected packages: pydub\n",
      "Successfully installed pydub-0.25.1\n"
     ]
    }
   ],
   "source": [
    "%pip install pydub"
   ]
  },
  {
   "cell_type": "code",
   "execution_count": 37,
   "id": "4db2357f",
   "metadata": {},
   "outputs": [],
   "source": [
    "import moviepy.editor as mp\n",
    "import pydub\n",
    "import speech_recognition as sr\n",
    "from nltk.corpus import stopwords\n",
    "from nltk.tokenize import word_tokenize"
   ]
  },
  {
   "cell_type": "code",
   "execution_count": null,
   "id": "a1f36395",
   "metadata": {},
   "outputs": [],
   "source": [
    "video = mp.VideoFileClip(\"C:\\\\Users\\\\Priyanka Kumari\\\\Desktop\\\\test.mp4\")\n",
    "\n",
    "# Split the video into smaller chunks of 10 seconds each\n",
    "audio_chunks = pydub.utils.make_chunks(video.audio.to_soundarray(), 10000)\n",
    "\n",
    "# Iterate over the audio chunks and save each chunk as a WAV file\n",
    "for i, chunk in enumerate(audio_chunks):\n",
    "    chunk.export(f\"audio_{i}.wav\", format=\"wav\")"
   ]
  },
  {
   "cell_type": "code",
   "execution_count": null,
   "id": "6f6f447e",
   "metadata": {},
   "outputs": [],
   "source": [
    "r = sr.Recognizer()\n",
    "\n",
    "# Iterate over the audio chunks and transcribe each chunk to text\n",
    "for i in range(num_chunks):\n",
    "    audio_file = sr.AudioFile(f\"audio_{i}.wav\")\n",
    "    with audio_file as source:\n",
    "        audio = r.record(source)\n",
    "    text = r.recognize_google(audio)\n",
    "    # Save the text to a file or add it to a list"
   ]
  },
  {
   "cell_type": "code",
   "execution_count": null,
   "id": "ff467468",
   "metadata": {},
   "outputs": [],
   "source": []
  },
  {
   "cell_type": "code",
   "execution_count": 40,
   "id": "bedff518",
   "metadata": {},
   "outputs": [],
   "source": [
    "import moviepy.editor as mp\n",
    "import pydub\n",
    "import speech_recognition as sr\n",
    "from nltk.corpus import stopwords\n",
    "from nltk.tokenize import word_tokenize"
   ]
  },
  {
   "cell_type": "code",
   "execution_count": null,
   "id": "fb5a5507",
   "metadata": {},
   "outputs": [],
   "source": [
    "video = mp.VideoFileClip(\"C:\\\\Users\\\\Priyanka Kumari\\\\Desktop\\\\test.mp4\")\n",
    "audio = video.audio.to_soundarray()\n",
    "audio = pydub.AudioSegment(audio.tobytes(), frame_rate=audio.frame_rate, sample_width=audio.dtype.itemsize, channels=1)\n",
    "audio.export(\"audio.wav\", format=\"wav\")"
   ]
  },
  {
   "cell_type": "code",
   "execution_count": null,
   "id": "78f8fa7d",
   "metadata": {},
   "outputs": [],
   "source": [
    "import speech_recognition as sr \n",
    "import moviepy.editor as mp\n",
    "from moviepy.video.io.ffmpeg_tools import ffmpeg_extract_subclip\n",
    "\n",
    "num_seconds_video= 52*60\n",
    "print(\"The video is {} seconds\".format(num_seconds_video))\n",
    "l=list(range(0,num_seconds_video+1,60))\n",
    "\n",
    "diz={}\n",
    "for i in range(len(l)-1):\n",
    "    ffmpeg_extract_subclip(\"C:\\\\Users\\\\Priyanka Kumari\\\\Desktop\\\\test.mp4\", l[i]-2*(l[i]!=0), l[i+1], targetname=\"chunks/cut{}.mp4\".format(i+1))\n",
    "    clip = mp.VideoFileClip(r\"chunks/cut{}.mp4\".format(i+1)) \n",
    "    clip.audio.write_audiofile(r\"converted/converted{}.wav\".format(i+1))\n",
    "    r = sr.Recognizer()\n",
    "    audio = sr.AudioFile(\"converted/converted{}.wav\".format(i+1))\n",
    "    with audio as source:\n",
    "      r.adjust_for_ambient_noise(source)  \n",
    "      audio_file = r.record(source)\n",
    "    result = r.recognize_google(audio_file)\n",
    "    diz['chunk{}'.format(i+1)]=result"
   ]
  },
  {
   "cell_type": "code",
   "execution_count": 45,
   "id": "19489cca",
   "metadata": {},
   "outputs": [
    {
     "name": "stdout",
     "output_type": "stream",
     "text": [
      "Finally ready!\n"
     ]
    }
   ],
   "source": [
    "l_chunks=[diz['chunk{}'.format(i+1)] for i in range(len(diz))]\n",
    "text='\\n'.join(l_chunks)\n",
    "\n",
    "with open('recognized.txt',mode ='w') as file: \n",
    "   file.write(\"Recognized Speech:\") \n",
    "   file.write(\"\\n\") \n",
    "   file.write(text) \n",
    "   print(\"Finally ready!\")"
   ]
  },
  {
   "cell_type": "code",
   "execution_count": null,
   "id": "77c08c5b",
   "metadata": {},
   "outputs": [],
   "source": [
    "# Step 1 : Importing libararies\n",
    "import speech_recognition as sr \n",
    "import moviepy.editor as mp\n",
    "# Step 2: Video to Audio conversion\n",
    "VidClip = mp.VideoFileClip(\"C:\\\\Users\\\\Priyanka Kumari\\\\Desktop\\\\test.mp4\") \n",
    "VidClip.audio.write_audiofile(\"/content/data/converted.wav\")\n",
    "# Step 3: Speech recognition\n",
    "reco = sr.Recognizer()\n",
    "audio = sr.AudioFile(\"/content/data/converted.wav\")\n",
    "with audio as source:\n",
    "  audio_file = reco.record(source)\n",
    "result = reco.recognize_google(audio_file)\n",
    "# Step 4: Finally exporting the result \n",
    "with open('/content/data/SpeechText.txt',mode ='w') as file: \n",
    "   file.write(\"Recognized Speech Text:\") \n",
    "   file.write(\"\\n\") \n",
    "   file.write(result) \n",
    "   print(\"Text file ready!\")"
   ]
  },
  {
   "cell_type": "code",
   "execution_count": 52,
   "id": "e1b2340e",
   "metadata": {},
   "outputs": [
    {
     "name": "stdout",
     "output_type": "stream",
     "text": [
      "Requirement already satisfied: google-cloud-speech in c:\\users\\priyanka kumari\\anaconda3\\lib\\site-packages (2.18.0)\n",
      "Requirement already satisfied: google-api-core[grpc]!=2.0.*,!=2.1.*,!=2.10.*,!=2.2.*,!=2.3.*,!=2.4.*,!=2.5.*,!=2.6.*,!=2.7.*,!=2.8.*,!=2.9.*,<3.0.0dev,>=1.34.0 in c:\\users\\priyanka kumari\\anaconda3\\lib\\site-packages (from google-cloud-speech) (2.11.0)\n",
      "Requirement already satisfied: protobuf!=3.20.0,!=3.20.1,!=4.21.0,!=4.21.1,!=4.21.2,!=4.21.3,!=4.21.4,!=4.21.5,<5.0.0dev,>=3.19.5 in c:\\users\\priyanka kumari\\anaconda3\\lib\\site-packages (from google-cloud-speech) (4.22.0)\n",
      "Requirement already satisfied: proto-plus<2.0.0dev,>=1.22.0 in c:\\users\\priyanka kumari\\anaconda3\\lib\\site-packages (from google-cloud-speech) (1.22.2)\n",
      "Requirement already satisfied: googleapis-common-protos<2.0dev,>=1.56.2 in c:\\users\\priyanka kumari\\anaconda3\\lib\\site-packages (from google-api-core[grpc]!=2.0.*,!=2.1.*,!=2.10.*,!=2.2.*,!=2.3.*,!=2.4.*,!=2.5.*,!=2.6.*,!=2.7.*,!=2.8.*,!=2.9.*,<3.0.0dev,>=1.34.0->google-cloud-speech) (1.58.0)\n",
      "Requirement already satisfied: requests<3.0.0dev,>=2.18.0 in c:\\users\\priyanka kumari\\anaconda3\\lib\\site-packages (from google-api-core[grpc]!=2.0.*,!=2.1.*,!=2.10.*,!=2.2.*,!=2.3.*,!=2.4.*,!=2.5.*,!=2.6.*,!=2.7.*,!=2.8.*,!=2.9.*,<3.0.0dev,>=1.34.0->google-cloud-speech) (2.27.1)\n",
      "Requirement already satisfied: google-auth<3.0dev,>=2.14.1 in c:\\users\\priyanka kumari\\anaconda3\\lib\\site-packages (from google-api-core[grpc]!=2.0.*,!=2.1.*,!=2.10.*,!=2.2.*,!=2.3.*,!=2.4.*,!=2.5.*,!=2.6.*,!=2.7.*,!=2.8.*,!=2.9.*,<3.0.0dev,>=1.34.0->google-cloud-speech) (2.16.2)\n",
      "Requirement already satisfied: grpcio<2.0dev,>=1.33.2 in c:\\users\\priyanka kumari\\anaconda3\\lib\\site-packages (from google-api-core[grpc]!=2.0.*,!=2.1.*,!=2.10.*,!=2.2.*,!=2.3.*,!=2.4.*,!=2.5.*,!=2.6.*,!=2.7.*,!=2.8.*,!=2.9.*,<3.0.0dev,>=1.34.0->google-cloud-speech) (1.51.3)\n",
      "Requirement already satisfied: grpcio-status<2.0dev,>=1.33.2 in c:\\users\\priyanka kumari\\anaconda3\\lib\\site-packages (from google-api-core[grpc]!=2.0.*,!=2.1.*,!=2.10.*,!=2.2.*,!=2.3.*,!=2.4.*,!=2.5.*,!=2.6.*,!=2.7.*,!=2.8.*,!=2.9.*,<3.0.0dev,>=1.34.0->google-cloud-speech) (1.51.3)\n",
      "Requirement already satisfied: pyasn1-modules>=0.2.1 in c:\\users\\priyanka kumari\\anaconda3\\lib\\site-packages (from google-auth<3.0dev,>=2.14.1->google-api-core[grpc]!=2.0.*,!=2.1.*,!=2.10.*,!=2.2.*,!=2.3.*,!=2.4.*,!=2.5.*,!=2.6.*,!=2.7.*,!=2.8.*,!=2.9.*,<3.0.0dev,>=1.34.0->google-cloud-speech) (0.2.8)\n",
      "Requirement already satisfied: rsa<5,>=3.1.4 in c:\\users\\priyanka kumari\\anaconda3\\lib\\site-packages (from google-auth<3.0dev,>=2.14.1->google-api-core[grpc]!=2.0.*,!=2.1.*,!=2.10.*,!=2.2.*,!=2.3.*,!=2.4.*,!=2.5.*,!=2.6.*,!=2.7.*,!=2.8.*,!=2.9.*,<3.0.0dev,>=1.34.0->google-cloud-speech) (4.7.2)\n",
      "Requirement already satisfied: six>=1.9.0 in c:\\users\\priyanka kumari\\anaconda3\\lib\\site-packages (from google-auth<3.0dev,>=2.14.1->google-api-core[grpc]!=2.0.*,!=2.1.*,!=2.10.*,!=2.2.*,!=2.3.*,!=2.4.*,!=2.5.*,!=2.6.*,!=2.7.*,!=2.8.*,!=2.9.*,<3.0.0dev,>=1.34.0->google-cloud-speech) (1.16.0)\n",
      "Requirement already satisfied: cachetools<6.0,>=2.0.0 in c:\\users\\priyanka kumari\\anaconda3\\lib\\site-packages (from google-auth<3.0dev,>=2.14.1->google-api-core[grpc]!=2.0.*,!=2.1.*,!=2.10.*,!=2.2.*,!=2.3.*,!=2.4.*,!=2.5.*,!=2.6.*,!=2.7.*,!=2.8.*,!=2.9.*,<3.0.0dev,>=1.34.0->google-cloud-speech) (4.2.2)\n",
      "Requirement already satisfied: pyasn1<0.5.0,>=0.4.6 in c:\\users\\priyanka kumari\\anaconda3\\lib\\site-packages (from pyasn1-modules>=0.2.1->google-auth<3.0dev,>=2.14.1->google-api-core[grpc]!=2.0.*,!=2.1.*,!=2.10.*,!=2.2.*,!=2.3.*,!=2.4.*,!=2.5.*,!=2.6.*,!=2.7.*,!=2.8.*,!=2.9.*,<3.0.0dev,>=1.34.0->google-cloud-speech) (0.4.8)\n",
      "Requirement already satisfied: idna<4,>=2.5 in c:\\users\\priyanka kumari\\anaconda3\\lib\\site-packages (from requests<3.0.0dev,>=2.18.0->google-api-core[grpc]!=2.0.*,!=2.1.*,!=2.10.*,!=2.2.*,!=2.3.*,!=2.4.*,!=2.5.*,!=2.6.*,!=2.7.*,!=2.8.*,!=2.9.*,<3.0.0dev,>=1.34.0->google-cloud-speech) (3.3)\n",
      "Requirement already satisfied: certifi>=2017.4.17 in c:\\users\\priyanka kumari\\anaconda3\\lib\\site-packages (from requests<3.0.0dev,>=2.18.0->google-api-core[grpc]!=2.0.*,!=2.1.*,!=2.10.*,!=2.2.*,!=2.3.*,!=2.4.*,!=2.5.*,!=2.6.*,!=2.7.*,!=2.8.*,!=2.9.*,<3.0.0dev,>=1.34.0->google-cloud-speech) (2021.10.8)\n",
      "Requirement already satisfied: charset-normalizer~=2.0.0 in c:\\users\\priyanka kumari\\anaconda3\\lib\\site-packages (from requests<3.0.0dev,>=2.18.0->google-api-core[grpc]!=2.0.*,!=2.1.*,!=2.10.*,!=2.2.*,!=2.3.*,!=2.4.*,!=2.5.*,!=2.6.*,!=2.7.*,!=2.8.*,!=2.9.*,<3.0.0dev,>=1.34.0->google-cloud-speech) (2.0.4)\n",
      "Requirement already satisfied: urllib3<1.27,>=1.21.1 in c:\\users\\priyanka kumari\\anaconda3\\lib\\site-packages (from requests<3.0.0dev,>=2.18.0->google-api-core[grpc]!=2.0.*,!=2.1.*,!=2.10.*,!=2.2.*,!=2.3.*,!=2.4.*,!=2.5.*,!=2.6.*,!=2.7.*,!=2.8.*,!=2.9.*,<3.0.0dev,>=1.34.0->google-cloud-speech) (1.26.9)\n",
      "Note: you may need to restart the kernel to use updated packages.\n"
     ]
    }
   ],
   "source": [
    "%pip install --upgrade google-cloud-speech"
   ]
  },
  {
   "cell_type": "code",
   "execution_count": null,
   "id": "3a6ba809",
   "metadata": {},
   "outputs": [],
   "source": [
    "import io\n",
    "import os\n",
    "from google.cloud import speech_v1p1beta1 as speech\n",
    "from google.cloud.speech_v1p1beta1 import enums\n",
    "\n",
    "# Set the path to the video file\n",
    "video_file_path = '/path/to/video_file.mp4'\n",
    "\n",
    "# Set the path to the service account key file\n",
    "credential_path = '/path/to/credentials.json'\n",
    "os.environ['GOOGLE_APPLICATION_CREDENTIALS'] = credential_path\n",
    "\n",
    "# Initialize the client\n",
    "client = speech.SpeechClient()\n",
    "\n",
    "# Configure the audio settings\n",
    "config = speech.types.RecognitionConfig(\n",
    "    encoding=enums.RecognitionConfig.AudioEncoding.LINEAR16,\n",
    "    sample_rate_hertz=44100,\n",
    "    language_code='en-US',\n",
    "    audio_channel_count=2,\n",
    "    enable_separate_recognition_per_channel=True,\n",
    "    enable_automatic_punctuation=True,\n",
    ")\n",
    "\n",
    "# Read the video file and extract the audio\n",
    "with io.open(video_file_path, 'rb') as f:\n",
    "    content = f.read()\n",
    "\n",
    "audio = speech.types.RecognitionAudio(content=content)\n",
    "\n",
    "# Call the API to transcribe the audio\n",
    "response = client.recognize(config=config, audio=audio)\n",
    "\n",
    "# Print the transcription results\n",
    "for result in response.results:\n",
    "    print('Transcript: {}'.format(result.alternatives[0].transcript))\n"
   ]
  },
  {
   "cell_type": "code",
   "execution_count": 2,
   "id": "dbc1788d",
   "metadata": {},
   "outputs": [
    {
     "name": "stderr",
     "output_type": "stream",
     "text": [
      "Unable to create process using 'C:\\Users\\Priyanka Kumari\\anaconda3\\python.exe \"C:\\Users\\Priyanka Kumari\\anaconda3\\Scripts\\pip-script.py\" install ibm_watson'\n"
     ]
    }
   ],
   "source": [
    "!pip install ibm_watson"
   ]
  },
  {
   "cell_type": "code",
   "execution_count": 3,
   "id": "d5b946eb",
   "metadata": {},
   "outputs": [
    {
     "name": "stderr",
     "output_type": "stream",
     "text": [
      "Unable to create process using 'C:\\Users\\Priyanka Kumari\\anaconda3\\python.exe \"C:\\Users\\Priyanka Kumari\\anaconda3\\Scripts\\pip-script.py\" install ibm_watson'\n"
     ]
    }
   ],
   "source": [
    "!pip install ibm_watson"
   ]
  },
  {
   "cell_type": "code",
   "execution_count": 4,
   "id": "7c4b8c79",
   "metadata": {},
   "outputs": [
    {
     "name": "stderr",
     "output_type": "stream",
     "text": [
      "Unable to create process using 'C:\\Users\\Priyanka Kumari\\anaconda3\\python.exe \"C:\\Users\\Priyanka Kumari\\anaconda3\\Scripts\\pip-script.py\" install ibm_watson'\n",
      "'brew' is not recognized as an internal or external command,\n",
      "operable program or batch file.\n"
     ]
    }
   ],
   "source": [
    "!pip install ibm_watson\n",
    "!brew install ffmpeg"
   ]
  },
  {
   "cell_type": "code",
   "execution_count": 5,
   "id": "1896e511",
   "metadata": {},
   "outputs": [],
   "source": [
    "import speech_recognition as sr\n",
    "import moviepy.editor as mp"
   ]
  },
  {
   "cell_type": "code",
   "execution_count": 13,
   "id": "143c0eb0",
   "metadata": {},
   "outputs": [
    {
     "name": "stdout",
     "output_type": "stream",
     "text": [
      "MoviePy - Writing audio in converted_mp3.wav\n"
     ]
    },
    {
     "name": "stderr",
     "output_type": "stream",
     "text": [
      "                                                                                                                       "
     ]
    },
    {
     "name": "stdout",
     "output_type": "stream",
     "text": [
      "MoviePy - Done.\n"
     ]
    },
    {
     "name": "stderr",
     "output_type": "stream",
     "text": [
      "\r"
     ]
    }
   ],
   "source": [
    "clip = mp.VideoFileClip(r\"C:\\Users\\Priyanka Kumari\\Downloads\\Color Identification in Images.wmv\") #specify the correct file path to your video file \n",
    "clip.audio.write_audiofile(r\"converted_mp3.wav\") #this the name of the coverted audio file"
   ]
  },
  {
   "cell_type": "code",
   "execution_count": 14,
   "id": "4641de7a",
   "metadata": {},
   "outputs": [],
   "source": [
    "r = sr.Recognizer()\n",
    "audio =sr.AudioFile(r\"converted_mp3.wav\") # give the audio file name here\n",
    "with audio as source:\n",
    "    audio_file = r.record(source)"
   ]
  },
  {
   "cell_type": "code",
   "execution_count": null,
   "id": "ea210c3d",
   "metadata": {},
   "outputs": [],
   "source": [
    "result = r.recognize_google(audio_file)"
   ]
  },
  {
   "cell_type": "code",
   "execution_count": null,
   "id": "6288500c",
   "metadata": {},
   "outputs": [],
   "source": [
    "with open('recognized_text_file.txt', mode='w') as file:\n",
    "    file.write(\"speech recognized\")\n",
    "    file.write(\"\\n\")\n",
    "    file.write(result)\n",
    "    print(\"Now the file is ready\")"
   ]
  },
  {
   "cell_type": "code",
   "execution_count": null,
   "id": "8566b648",
   "metadata": {},
   "outputs": [],
   "source": []
  }
 ],
 "metadata": {
  "kernelspec": {
   "display_name": "Python 3 (ipykernel)",
   "language": "python",
   "name": "python3"
  },
  "language_info": {
   "codemirror_mode": {
    "name": "ipython",
    "version": 3
   },
   "file_extension": ".py",
   "mimetype": "text/x-python",
   "name": "python",
   "nbconvert_exporter": "python",
   "pygments_lexer": "ipython3",
   "version": "3.9.12"
  }
 },
 "nbformat": 4,
 "nbformat_minor": 5
}
