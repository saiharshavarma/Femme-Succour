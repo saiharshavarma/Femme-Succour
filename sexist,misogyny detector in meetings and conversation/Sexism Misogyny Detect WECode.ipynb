{
 "cells": [
  {
   "cell_type": "code",
   "execution_count": 1,
   "id": "e852cdf1",
   "metadata": {},
   "outputs": [],
   "source": [
    "import pandas as pd\n",
    "import numpy as np"
   ]
  },
  {
   "cell_type": "code",
   "execution_count": 9,
   "id": "e93df92f",
   "metadata": {},
   "outputs": [
    {
     "name": "stdout",
     "output_type": "stream",
     "text": [
      "Collecting cohere\n",
      "  Using cached cohere-3.10.0.tar.gz (15 kB)\n",
      "Requirement already satisfied: requests in c:\\users\\priyanka kumari\\anaconda3\\lib\\site-packages (from cohere) (2.27.1)\n",
      "Requirement already satisfied: urllib3~=1.26 in c:\\users\\priyanka kumari\\anaconda3\\lib\\site-packages (from cohere) (1.26.9)\n",
      "Requirement already satisfied: certifi>=2017.4.17 in c:\\users\\priyanka kumari\\anaconda3\\lib\\site-packages (from requests->cohere) (2021.10.8)\n",
      "Requirement already satisfied: charset-normalizer~=2.0.0 in c:\\users\\priyanka kumari\\anaconda3\\lib\\site-packages (from requests->cohere) (2.0.4)\n",
      "Requirement already satisfied: idna<4,>=2.5 in c:\\users\\priyanka kumari\\anaconda3\\lib\\site-packages (from requests->cohere) (3.3)\n",
      "Building wheels for collected packages: cohere\n",
      "  Building wheel for cohere (setup.py): started\n",
      "  Building wheel for cohere (setup.py): finished with status 'done'\n",
      "  Created wheel for cohere: filename=cohere-3.10.0-cp39-cp39-win_amd64.whl size=18309 sha256=9933eabdb7cf05d5aa45d348b800210043c6a6db3c6ff31298bc4ab75b722b74\n",
      "  Stored in directory: c:\\users\\priyanka kumari\\appdata\\local\\pip\\cache\\wheels\\45\\ed\\84\\48ab442187d3a7276e1c045360a2496f33493adafeaa88d201\n",
      "Successfully built cohere\n",
      "Installing collected packages: cohere\n",
      "Successfully installed cohere-3.10.0\n",
      "Note: you may need to restart the kernel to use updated packages.\n"
     ]
    }
   ],
   "source": [
    "%pip install cohere"
   ]
  },
  {
   "cell_type": "markdown",
   "id": "de49a41b",
   "metadata": {},
   "source": [
    "## Loading dataset created manually\n"
   ]
  },
  {
   "cell_type": "code",
   "execution_count": 13,
   "id": "b7ba74b6",
   "metadata": {},
   "outputs": [],
   "source": [
    "data = pd.read_csv('sexism Data final.csv')"
   ]
  },
  {
   "cell_type": "markdown",
   "id": "3a893c8a",
   "metadata": {},
   "source": [
    "## Classifying the comment as sexist or not "
   ]
  },
  {
   "cell_type": "code",
   "execution_count": 16,
   "id": "f4b96b80",
   "metadata": {},
   "outputs": [],
   "source": [
    "from sklearn.model_selection import train_test_split\n",
    "from sklearn.feature_extraction.text import TfidfVectorizer\n",
    "from sklearn.svm import LinearSVC"
   ]
  },
  {
   "cell_type": "code",
   "execution_count": 57,
   "id": "21740e2a",
   "metadata": {},
   "outputs": [],
   "source": [
    "train_data, test_data, train_labels, test_labels = train_test_split(data['text'], data['sexist'], test_size=0.4)\n"
   ]
  },
  {
   "cell_type": "code",
   "execution_count": 58,
   "id": "dc80851e",
   "metadata": {},
   "outputs": [],
   "source": [
    "# Convert text data into numerical feature vectors using TfidfVectorizer\n",
    "vectorizer = TfidfVectorizer()\n",
    "train_vectors = vectorizer.fit_transform(train_data)\n",
    "test_vectors = vectorizer.transform(test_data)\n"
   ]
  },
  {
   "cell_type": "code",
   "execution_count": 59,
   "id": "a333cafa",
   "metadata": {},
   "outputs": [
    {
     "data": {
      "text/plain": [
       "LinearSVC()"
      ]
     },
     "execution_count": 59,
     "metadata": {},
     "output_type": "execute_result"
    }
   ],
   "source": [
    "# Train an SVM model on the training data\n",
    "model = LinearSVC()\n",
    "model.fit(train_vectors, train_labels)"
   ]
  },
  {
   "cell_type": "code",
   "execution_count": 60,
   "id": "81c2e54f",
   "metadata": {},
   "outputs": [
    {
     "name": "stdout",
     "output_type": "stream",
     "text": [
      "Accuracy:  0.9013387126352467\n"
     ]
    }
   ],
   "source": [
    "# Evaluate the model on the testing data\n",
    "accuracy = model.score(test_vectors, test_labels)\n",
    "print(\"Accuracy: \", accuracy)"
   ]
  },
  {
   "cell_type": "code",
   "execution_count": 61,
   "id": "720f66c8",
   "metadata": {},
   "outputs": [
    {
     "name": "stdout",
     "output_type": "stream",
     "text": [
      "Prediction:  [ True]\n"
     ]
    }
   ],
   "source": [
    "#predicting the comment as sexist or not -- 1 INCIDATES THAT THE COMMENT IS STRONGLY SEXIST\n",
    "new_text = \"Men are superior than women and women are shit\"\n",
    "new_vector = vectorizer.transform([new_text])\n",
    "prediction = model.predict(new_vector)\n",
    "print(\"Prediction: \", prediction)"
   ]
  },
  {
   "cell_type": "code",
   "execution_count": 62,
   "id": "cd869c72",
   "metadata": {},
   "outputs": [
    {
     "name": "stdout",
     "output_type": "stream",
     "text": [
      "Prediction:  [False]\n"
     ]
    }
   ],
   "source": [
    "new_text = \"not at all good\" # 0 - indicates that the comment is not sexist\n",
    "new_vector = vectorizer.transform([new_text])\n",
    "prediction = model.predict(new_vector)\n",
    "print(\"Prediction: \", prediction)"
   ]
  },
  {
   "cell_type": "markdown",
   "id": "8aac47ca",
   "metadata": {},
   "source": [
    "## Now predicting the Toxicity level of the sexist comment \n",
    "\n"
   ]
  },
  {
   "cell_type": "code",
   "execution_count": 41,
   "id": "37c091c4",
   "metadata": {},
   "outputs": [],
   "source": [
    "from sklearn.svm import SVR"
   ]
  },
  {
   "cell_type": "code",
   "execution_count": 42,
   "id": "d06a5da6",
   "metadata": {},
   "outputs": [],
   "source": [
    "vectorizer = TfidfVectorizer()\n",
    "vectors = vectorizer.fit_transform(data['text'])"
   ]
  },
  {
   "cell_type": "code",
   "execution_count": 38,
   "id": "87c2c717",
   "metadata": {},
   "outputs": [
    {
     "data": {
      "text/plain": [
       "SVR()"
      ]
     },
     "execution_count": 38,
     "metadata": {},
     "output_type": "execute_result"
    }
   ],
   "source": [
    "model = SVR()\n",
    "model.fit(vectors, data['toxicity'])"
   ]
  },
  {
   "cell_type": "code",
   "execution_count": 39,
   "id": "7c066807",
   "metadata": {},
   "outputs": [
    {
     "name": "stdout",
     "output_type": "stream",
     "text": [
      "Toxicity level: 42.48%\n"
     ]
    }
   ],
   "source": [
    "# Predict the toxicity level of new text\n",
    "new_text = \"A woman will never be truly fulfilled in life\"\n",
    "new_vector = vectorizer.transform([new_text])\n",
    "toxicity_level = model.predict(new_vector)[0]\n",
    "print(\"Toxicity level: {:.2f}%\".format(toxicity_level * 100))"
   ]
  },
  {
   "cell_type": "code",
   "execution_count": 48,
   "id": "23d11263",
   "metadata": {},
   "outputs": [
    {
     "name": "stdout",
     "output_type": "stream",
     "text": [
      "Toxicity level: 88.72%\n"
     ]
    }
   ],
   "source": [
    "# Predict the toxicity level of new text\n",
    "new_text = \"Men are superior than women and women are shit, useless and meant to be insulted\"\n",
    "new_vector = vectorizer.transform([new_text])\n",
    "toxicity_level = model.predict(new_vector)[0]\n",
    "print(\"Toxicity level: {:.2f}%\".format(toxicity_level * 100))"
   ]
  },
  {
   "cell_type": "code",
   "execution_count": 52,
   "id": "1249478c",
   "metadata": {},
   "outputs": [],
   "source": [
    "from cohere.classify import Example"
   ]
  },
  {
   "cell_type": "code",
   "execution_count": null,
   "id": "1bcfadaf",
   "metadata": {},
   "outputs": [],
   "source": [
    "toxicInputs = [\"this women sucks, men best\",  \"stop being a dumbass\",\"Let's do this and make a judgement\",\"This is coming along nicely\"  ]\n",
    "toxicExamples = [\n",
    "  Example(\"you are hot trash Mrs.\", \"Toxic\"),  \n",
    "  Example(\"She should go to hell\", \"Toxic\"),\n",
    "  Example(\"get rekt moron\", \"Toxic\"),  \n",
    "  Example(\"get a brain and use it\", \"Toxic\"), \n",
    "  Example(\"say what you mean, you jerk.\", \"Toxic\"), \n",
    "  Example(\"Are you really this stupid\", \"Toxic\"), \n",
    "  Example(\"I will honestly kill you\", \"Toxic\"),  \n",
    "  Example(\"yo how are you\", \"Benign\"),  \n",
    "  Example(\"I'm curious, how did that happen\", \"Benign\"),  \n",
    "  Example(\"Try that again\", \"Benign\"),  \n",
    "  Example(\"Hello everyone, excited to be here\", \"Benign\"), \n",
    "  Example(\"I think I saw it first\", \"Benign\"),  \n",
    "  Example(\"That is an interesting point\", \"Benign\"), \n",
    "  Example(\"I love this\", \"Benign\"), \n",
    "  Example(\"We should try that sometime\", \"Benign\"), \n",
    "  Example(\"You should go for it\", \"Benign\")\n",
    "]"
   ]
  },
  {
   "cell_type": "code",
   "execution_count": null,
   "id": "4bbff960",
   "metadata": {},
   "outputs": [],
   "source": []
  },
  {
   "cell_type": "code",
   "execution_count": null,
   "id": "48ad0ec8",
   "metadata": {},
   "outputs": [],
   "source": []
  }
 ],
 "metadata": {
  "kernelspec": {
   "display_name": "Python 3 (ipykernel)",
   "language": "python",
   "name": "python3"
  },
  "language_info": {
   "codemirror_mode": {
    "name": "ipython",
    "version": 3
   },
   "file_extension": ".py",
   "mimetype": "text/x-python",
   "name": "python",
   "nbconvert_exporter": "python",
   "pygments_lexer": "ipython3",
   "version": "3.9.12"
  }
 },
 "nbformat": 4,
 "nbformat_minor": 5
}
